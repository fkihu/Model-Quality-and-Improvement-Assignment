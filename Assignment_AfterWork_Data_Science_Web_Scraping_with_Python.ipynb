{
  "nbformat": 4,
  "nbformat_minor": 0,
  "metadata": {
    "colab": {
      "name": "Assignment: AfterWork Data Science: Web Scraping with Python",
      "provenance": [],
      "collapsed_sections": [],
      "toc_visible": true,
      "include_colab_link": true
    },
    "kernelspec": {
      "name": "python3",
      "display_name": "Python 3"
    }
  },
  "cells": [
    {
      "cell_type": "markdown",
      "metadata": {
        "id": "view-in-github",
        "colab_type": "text"
      },
      "source": [
        "<a href=\"https://colab.research.google.com/github/fkihu/Model-Quality-and-Improvement-Assignment/blob/main/Assignment_AfterWork_Data_Science_Web_Scraping_with_Python.ipynb\" target=\"_parent\"><img src=\"https://colab.research.google.com/assets/colab-badge.svg\" alt=\"Open In Colab\"/></a>"
      ]
    },
    {
      "cell_type": "markdown",
      "metadata": {
        "id": "7i5A-UY4Yruf"
      },
      "source": [
        "<font color='#2F4F4F'>To use this notebook on Colaboratory, you will need to make a copy of it. Go to File > Save a Copy in Drive. You can then use the new copy that will appear in the new tab.</font>\n"
      ]
    },
    {
      "cell_type": "markdown",
      "metadata": {
        "id": "0rOdcI2Nzhky"
      },
      "source": [
        "# <font color='#2F4F4F'>AfterWork Data Science: Web Scraping with Python</font>"
      ]
    },
    {
      "cell_type": "markdown",
      "metadata": {
        "id": "Tcso2rJCNAGq"
      },
      "source": [
        "## <font color='#2F4F4F'>Prerequisites</font>"
      ]
    },
    {
      "cell_type": "code",
      "metadata": {
        "id": "QSHljMZTNCRI"
      },
      "source": [
        "# We first import the required libraries\n",
        "# ---\n",
        "#\n",
        "import pandas as pd             # library for data manupation\n",
        "import requests                 # library for fetching a web page \n",
        "from bs4 import BeautifulSoup   # library for extrating contents from a webpage "
      ],
      "execution_count": 1,
      "outputs": []
    },
    {
      "cell_type": "markdown",
      "metadata": {
        "id": "CRmt1rRHgZRG"
      },
      "source": [
        "## <font color='#2F4F4F'>Step 1: Obtaining our Data</font>"
      ]
    },
    {
      "cell_type": "code",
      "metadata": {
        "id": "cM5TKD-P1h7Z",
        "colab": {
          "base_uri": "https://localhost:8080/"
        },
        "outputId": "17242829-f784-45ae-c553-ba108c10e45b"
      },
      "source": [
        "# PigiaMe: https://www.pigiame.co.ke/it-software-jobs\n",
        "# ---\n",
        "#\n",
        "pigia_me = requests.get('https://www.pigiame.co.ke/it-software-jobs')\n",
        "pigia_me"
      ],
      "execution_count": null,
      "outputs": [
        {
          "output_type": "execute_result",
          "data": {
            "text/plain": [
              "<Response [200]>"
            ]
          },
          "metadata": {},
          "execution_count": 2
        }
      ]
    },
    {
      "cell_type": "code",
      "metadata": {
        "id": "OfUvfxrD1nQC",
        "colab": {
          "base_uri": "https://localhost:8080/"
        },
        "outputId": "3d77e151-369d-4f06-fc05-b4d3fb67a2d8"
      },
      "source": [
        "# MyJobMag: https://www.myjobmag.co.ke/jobs-by-field/information-technology\n",
        "# ---\n",
        "#\n",
        "# YOUR CODE GOES HERE\n",
        "\n",
        "myjobmag = requests.get('https://www.myjobmag.co.ke/jobs-by-field/information-technology')\n",
        "myjobmag"
      ],
      "execution_count": null,
      "outputs": [
        {
          "output_type": "execute_result",
          "data": {
            "text/plain": [
              "<Response [200]>"
            ]
          },
          "metadata": {},
          "execution_count": 3
        }
      ]
    },
    {
      "cell_type": "code",
      "metadata": {
        "id": "psWrYhRUQDJC",
        "colab": {
          "base_uri": "https://localhost:8080/"
        },
        "outputId": "23016be0-6eec-4b76-c160-ae0e4236a874"
      },
      "source": [
        "# KenyanJob: https://www.kenyajob.com/job-vacancies-search-kenya?f%5B0%5D=im_field_offre_secteur%3A133\n",
        "# ---\n",
        "#\n",
        "# YOUR CODE GOES HERE\n",
        "\n",
        "kenyanjob = requests.get('https://www.kenyajob.com/job-vacancies-search-kenya?f%5B0%5D=im_field_offre_secteur%3A133')\n",
        "kenyanjob"
      ],
      "execution_count": null,
      "outputs": [
        {
          "output_type": "execute_result",
          "data": {
            "text/plain": [
              "<Response [200]>"
            ]
          },
          "metadata": {},
          "execution_count": 4
        }
      ]
    },
    {
      "cell_type": "markdown",
      "metadata": {
        "id": "h7iRb8U8hHNw"
      },
      "source": [
        "## <font color='#2F4F4F'>Step 2: Parsing</font>"
      ]
    },
    {
      "cell_type": "code",
      "metadata": {
        "id": "AXWSK1kD2oeN"
      },
      "source": [
        "# Parsing our document: pigia_me\n",
        "# ---\n",
        "# \n",
        "# YOUR CODE GOES HERE\n",
        "\n",
        "soup_pigia_me = BeautifulSoup(pigia_me.text, \"html.parser\")\n",
        "# soup_pigia_me"
      ],
      "execution_count": null,
      "outputs": []
    },
    {
      "cell_type": "code",
      "metadata": {
        "id": "lrH9mgR82pzg"
      },
      "source": [
        "# Parsing our document: my_job_mag\n",
        "# ---\n",
        "#  \n",
        "# YOUR CODE GOES HERE\n",
        "\n",
        "soup_myjobmag = BeautifulSoup(myjobmag.text, \"html.parser\")\n",
        "# soup_myjobmag"
      ],
      "execution_count": null,
      "outputs": []
    },
    {
      "cell_type": "code",
      "metadata": {
        "id": "O0x-Wz03QP5O"
      },
      "source": [
        "# Parsing our document: kenyan_job\n",
        "# ---\n",
        "# \n",
        "# YOUR CODE GOES HERE\n",
        "\n",
        "soup_kenyanjob = BeautifulSoup(kenyanjob.text, \"html.parser\")\n",
        "# soup_kenyanjob"
      ],
      "execution_count": null,
      "outputs": []
    },
    {
      "cell_type": "markdown",
      "metadata": {
        "id": "_OxuOAIXhPl5"
      },
      "source": [
        "## <font color='#2F4F4F'>Step 3: Extracting Required Elements</font>"
      ]
    },
    {
      "cell_type": "code",
      "metadata": {
        "id": "e2p147_LICKn",
        "colab": {
          "base_uri": "https://localhost:8080/"
        },
        "outputId": "419b2c92-a308-4acd-a604-18d1ab42fd31"
      },
      "source": [
        "# 1. Extracting job titles and links: pigia me\n",
        "# ---\n",
        "# \n",
        "# YOUR CODE GOES HERE\n",
        "\n",
        "pigiame_jobtitles = soup_pigia_me.find('div', {'class': 'listing-card__header__title'}) \n",
        "print(pigiame_jobtitles)"
      ],
      "execution_count": null,
      "outputs": [
        {
          "output_type": "stream",
          "name": "stdout",
          "text": [
            "<div class=\"listing-card__header__title\">\n",
            "Assistant Manager – Data Engineering\n",
            "</div>\n"
          ]
        }
      ]
    },
    {
      "cell_type": "code",
      "metadata": {
        "id": "NNLbrng_3QfA",
        "colab": {
          "base_uri": "https://localhost:8080/"
        },
        "outputId": "87336bce-1240-41a6-aea5-1f77ff0d4563"
      },
      "source": [
        "# 2. Extracting job titles: my_job_mag\n",
        "# ---\n",
        "# \n",
        "# YOUR CODE GOES HERE\n",
        "\n",
        "myjobmag_jobtitles = soup_myjobmag.find_all('h2')\n",
        "# myjobmag_jobtitles\n",
        "\n",
        "# We then strip all the surrounding whitespace.\n",
        "#\n",
        "myjobmag_jobtitlestxt = [tag.get_text().strip() for tag in myjobmag_jobtitles]\n",
        "myjobmag_jobtitlestxt"
      ],
      "execution_count": null,
      "outputs": [
        {
          "output_type": "execute_result",
          "data": {
            "text/plain": [
              "['Database Administrator at DIB Bank Kenya Limited (DIBBKE)',\n",
              " 'ACS Technical Account Manager TAM Oracle at Oracle',\n",
              " 'Information Systems Auditor at Kenyatta University Teaching, Referral & Research Hospital',\n",
              " 'Field Technology Lead at One Acre Fund',\n",
              " 'Principal ICT Officer ASB 4. at Public Sector Accounting Standards Board (PSASB)',\n",
              " 'Information Systems Auditor at ABC Bank (African Banking Corporation Limited)',\n",
              " 'Information Systems Officer, P4 at United Nations Environment Programme (UNEP)',\n",
              " 'Assistant Manager – UI/UX Engineer at Kenya Revenue Authority (KRA)',\n",
              " 'Assistant Manager, Full Stack Developer at Kenya Revenue Authority (KRA)',\n",
              " 'Assistant Manager – Solutions Architecture at Kenya Revenue Authority (KRA)',\n",
              " 'Assistant Manager- SAP ABAP Developer at Kenya Revenue Authority (KRA)',\n",
              " 'Odoo Software Engineer at M-Gas',\n",
              " 'Software Developer at Standard Bank Group',\n",
              " 'Temporary Assistant - Resource Centre/Library/Knowledge Management at Capital Markets Authority (CMA)',\n",
              " 'Google Cloud Specialist at Incentro Africa',\n",
              " 'Risk & Compliance Analyst at Sendy Limited',\n",
              " 'Head Of Data at Sendy Limited',\n",
              " 'Principal Engineer- Backend at Sendy Limited',\n",
              " 'Subscribe to Job Alert',\n",
              " 'Career Advice',\n",
              " 'Subscribe to Job Alert',\n",
              " 'Job Vacancies in ICT / Computer']"
            ]
          },
          "metadata": {},
          "execution_count": 20
        }
      ]
    },
    {
      "cell_type": "code",
      "metadata": {
        "id": "I0fQKn63QV0R",
        "colab": {
          "base_uri": "https://localhost:8080/"
        },
        "outputId": "4be2fe97-b8f5-43d5-f47a-354969af807b"
      },
      "source": [
        "# 3. Extracting job titles: kenya_job\n",
        "# ---\n",
        "#\n",
        "# YOUR CODE GOES HERE\n",
        "soup_kenyanjob_jobtitles = soup_kenyanjob.find_all('h5')\n",
        "# myjobmag_jobtitles\n",
        "\n",
        "# We then strip all the surrounding whitespace.\n",
        "#\n",
        "soup_kenyanjob_jobtitlestxt = [tag.get_text().strip() for tag in soup_kenyanjob_jobtitles]\n",
        "soup_kenyanjob_jobtitlestxt\n"
      ],
      "execution_count": null,
      "outputs": [
        {
          "output_type": "execute_result",
          "data": {
            "text/plain": [
              "['Football Data Scout - Mombasa, Kenya',\n",
              " 'Manager, Engineering Analytics',\n",
              " 'Manager, Frontend Engineering, Secure',\n",
              " 'Senior Product Manager',\n",
              " 'Backend Engineering Manager, Verify:Pipeline Execution',\n",
              " 'Fullstack Engineering Manager, Contributor Success',\n",
              " 'Contract Manager - EMEA',\n",
              " 'Sales Development Representative, EMEA - Bilingual in Spanish and Ital',\n",
              " 'Area Sales Manager, West, Southwest',\n",
              " 'Remote Full-stack PHP Developer',\n",
              " 'CRM Engineering Lead - (21000642)',\n",
              " 'Power Platform Developer',\n",
              " 'Senior Data Scientist',\n",
              " 'Solutions Architect',\n",
              " 'Team Lead IT Finance and Cost Optimization',\n",
              " 'Head of Software Quality and Test',\n",
              " 'Payments Head of Support',\n",
              " 'Projects Coordinator',\n",
              " 'Senior IT Project Manager',\n",
              " 'Software Engineer in Test/ Senior Software Engineer in Test',\n",
              " 'Senior Backend Engineer, Manage: Compliance',\n",
              " 'Senior Backend Engineer, Applied ML',\n",
              " 'Senior Backend Engineer, Manage: Import',\n",
              " 'Senior Frontend Engineer, Release',\n",
              " 'Senior Frontend Engineer, Monitor:Observability']"
            ]
          },
          "metadata": {},
          "execution_count": 21
        }
      ]
    },
    {
      "cell_type": "markdown",
      "metadata": {
        "id": "7ePXABAihaKn"
      },
      "source": [
        "## <font color='#2F4F4F'>Step 4: Saving our Data</font>"
      ]
    },
    {
      "cell_type": "code",
      "metadata": {
        "id": "fsG9pQXk5f8y",
        "colab": {
          "base_uri": "https://localhost:8080/"
        },
        "outputId": "01bb5fae-b963-49d5-d721-5f4fd8cce151"
      },
      "source": [
        "# Saving the scraped contents in a dataframe and preview our data\n",
        "# ---\n",
        "#\n",
        "# YOUR CODE GOES HERE\n",
        "\n",
        "df2 = pd.DataFrame(myjobmag_jobtitlestxt)\n",
        "df3 = pd.DataFrame(soup_kenyanjob_jobtitlestxt)\n",
        "print('myjobmag job titles: ', \n",
        "      df2)\n",
        "\n",
        "print('myjobmag job titles: ',\n",
        "      df3)"
      ],
      "execution_count": null,
      "outputs": [
        {
          "output_type": "stream",
          "name": "stdout",
          "text": [
            "myjobmag job titles:                                                      0\n",
            "0   Database Administrator at DIB Bank Kenya Limit...\n",
            "1   ACS Technical Account Manager TAM Oracle at Or...\n",
            "2   Information Systems Auditor at Kenyatta Univer...\n",
            "3              Field Technology Lead at One Acre Fund\n",
            "4   Principal ICT Officer ASB 4. at Public Sector ...\n",
            "5   Information Systems Auditor at ABC Bank (Afric...\n",
            "6   Information Systems Officer, P4 at United Nati...\n",
            "7   Assistant Manager – UI/UX Engineer at Kenya Re...\n",
            "8   Assistant Manager, Full Stack Developer at Ken...\n",
            "9   Assistant Manager – Solutions Architecture at ...\n",
            "10  Assistant Manager- SAP ABAP Developer at Kenya...\n",
            "11                    Odoo Software Engineer at M-Gas\n",
            "12          Software Developer at Standard Bank Group\n",
            "13  Temporary Assistant - Resource Centre/Library/...\n",
            "14         Google Cloud Specialist at Incentro Africa\n",
            "15         Risk & Compliance Analyst at Sendy Limited\n",
            "16                      Head Of Data at Sendy Limited\n",
            "17       Principal Engineer- Backend at Sendy Limited\n",
            "18                             Subscribe to Job Alert\n",
            "19                                      Career Advice\n",
            "20                             Subscribe to Job Alert\n",
            "21                    Job Vacancies in ICT / Computer\n",
            "myjobmag job titles:                                                      0\n",
            "0                Football Data Scout - Mombasa, Kenya\n",
            "1                      Manager, Engineering Analytics\n",
            "2               Manager, Frontend Engineering, Secure\n",
            "3                              Senior Product Manager\n",
            "4   Backend Engineering Manager, Verify:Pipeline E...\n",
            "5   Fullstack Engineering Manager, Contributor Suc...\n",
            "6                             Contract Manager - EMEA\n",
            "7   Sales Development Representative, EMEA - Bilin...\n",
            "8                 Area Sales Manager, West, Southwest\n",
            "9                     Remote Full-stack PHP Developer\n",
            "10                  CRM Engineering Lead - (21000642)\n",
            "11                           Power Platform Developer\n",
            "12                              Senior Data Scientist\n",
            "13                                Solutions Architect\n",
            "14         Team Lead IT Finance and Cost Optimization\n",
            "15                  Head of Software Quality and Test\n",
            "16                           Payments Head of Support\n",
            "17                               Projects Coordinator\n",
            "18                          Senior IT Project Manager\n",
            "19  Software Engineer in Test/ Senior Software Eng...\n",
            "20        Senior Backend Engineer, Manage: Compliance\n",
            "21                Senior Backend Engineer, Applied ML\n",
            "22            Senior Backend Engineer, Manage: Import\n",
            "23                  Senior Frontend Engineer, Release\n",
            "24    Senior Frontend Engineer, Monitor:Observability\n"
          ]
        }
      ]
    }
  ]
}