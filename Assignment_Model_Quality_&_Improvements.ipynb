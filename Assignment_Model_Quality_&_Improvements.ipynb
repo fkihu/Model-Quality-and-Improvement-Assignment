{
  "nbformat": 4,
  "nbformat_minor": 0,
  "metadata": {
    "colab": {
      "name": "Assignment: Model Quality & Improvements.ipynb",
      "provenance": [],
      "toc_visible": true,
      "authorship_tag": "ABX9TyNpImLb9S8j4AMOHgDvhQ3p",
      "include_colab_link": true
    },
    "kernelspec": {
      "name": "python3",
      "display_name": "Python 3"
    },
    "language_info": {
      "name": "python"
    }
  },
  "cells": [
    {
      "cell_type": "markdown",
      "metadata": {
        "id": "view-in-github",
        "colab_type": "text"
      },
      "source": [
        "<a href=\"https://colab.research.google.com/github/fkihu/Model-Quality-and-Improvement-Assignment/blob/main/Assignment_Model_Quality_%26_Improvements.ipynb\" target=\"_parent\"><img src=\"https://colab.research.google.com/assets/colab-badge.svg\" alt=\"Open In Colab\"/></a>"
      ]
    },
    {
      "cell_type": "markdown",
      "metadata": {
        "id": "Uc3k4daDPoU8"
      },
      "source": [
        "**Problem Statement**\n",
        "\n",
        "\n",
        "As a data professional working for a pharmaceutical company, you need to develop a\n",
        "model that predicts whether a patient will be diagnosed with diabetes. The model needs\n",
        "to have an accuracy score greater than 0.85.\n"
      ]
    },
    {
      "cell_type": "markdown",
      "metadata": {
        "id": "qRapOQWaP2UE"
      },
      "source": [
        "Prerequisites"
      ]
    },
    {
      "cell_type": "code",
      "metadata": {
        "id": "GJWUlyv7P02m"
      },
      "source": [
        "import pandas as pd\n",
        "from sklearn.tree import DecisionTreeClassifier\n",
        "from sklearn.metrics import accuracy_score\n",
        "from sklearn.model_selection import train_test_split\n",
        "from sklearn.ensemble import RandomForestClassifier\n",
        "from sklearn.linear_model import LogisticRegression"
      ],
      "execution_count": null,
      "outputs": []
    },
    {
      "cell_type": "markdown",
      "metadata": {
        "id": "wPf9LqRSWOfk"
      },
      "source": [
        "# Exploring the data"
      ]
    },
    {
      "cell_type": "markdown",
      "metadata": {
        "id": "jrlWTA5qPu21"
      },
      "source": [
        "Importing the dataset"
      ]
    },
    {
      "cell_type": "code",
      "metadata": {
        "id": "NQXHhBKUPtEG"
      },
      "source": [
        "df = pd.read_csv('https://bit.ly/DiabetesDS')"
      ],
      "execution_count": null,
      "outputs": []
    },
    {
      "cell_type": "markdown",
      "metadata": {
        "id": "fVNckIozRjif"
      },
      "source": [
        "Determining the size of the dataset"
      ]
    },
    {
      "cell_type": "code",
      "metadata": {
        "colab": {
          "base_uri": "https://localhost:8080/"
        },
        "id": "W4gTHNWLRmhH",
        "outputId": "aaf8c984-74d5-4bc1-d903-e48bbbca32c9"
      },
      "source": [
        "df.shape #768 records with 9 features"
      ],
      "execution_count": null,
      "outputs": [
        {
          "output_type": "execute_result",
          "data": {
            "text/plain": [
              "(768, 9)"
            ]
          },
          "metadata": {},
          "execution_count": 92
        }
      ]
    },
    {
      "cell_type": "markdown",
      "metadata": {
        "id": "Mc1wmlLGSD_A"
      },
      "source": [
        "Exploring the first records of the dataset\n",
        "\n"
      ]
    },
    {
      "cell_type": "code",
      "metadata": {
        "colab": {
          "base_uri": "https://localhost:8080/",
          "height": 204
        },
        "id": "3_atRCXJSKbc",
        "outputId": "abe8a822-cd48-4b06-8242-89818203f064"
      },
      "source": [
        "df.head()"
      ],
      "execution_count": null,
      "outputs": [
        {
          "output_type": "execute_result",
          "data": {
            "text/html": [
              "<div>\n",
              "<style scoped>\n",
              "    .dataframe tbody tr th:only-of-type {\n",
              "        vertical-align: middle;\n",
              "    }\n",
              "\n",
              "    .dataframe tbody tr th {\n",
              "        vertical-align: top;\n",
              "    }\n",
              "\n",
              "    .dataframe thead th {\n",
              "        text-align: right;\n",
              "    }\n",
              "</style>\n",
              "<table border=\"1\" class=\"dataframe\">\n",
              "  <thead>\n",
              "    <tr style=\"text-align: right;\">\n",
              "      <th></th>\n",
              "      <th>Pregnancies</th>\n",
              "      <th>Glucose</th>\n",
              "      <th>BloodPressure</th>\n",
              "      <th>SkinThickness</th>\n",
              "      <th>Insulin</th>\n",
              "      <th>BMI</th>\n",
              "      <th>DiabetesPedigreeFunction</th>\n",
              "      <th>Age</th>\n",
              "      <th>Outcome</th>\n",
              "    </tr>\n",
              "  </thead>\n",
              "  <tbody>\n",
              "    <tr>\n",
              "      <th>0</th>\n",
              "      <td>6</td>\n",
              "      <td>148</td>\n",
              "      <td>72</td>\n",
              "      <td>35</td>\n",
              "      <td>0</td>\n",
              "      <td>33.6</td>\n",
              "      <td>0.627</td>\n",
              "      <td>50</td>\n",
              "      <td>1</td>\n",
              "    </tr>\n",
              "    <tr>\n",
              "      <th>1</th>\n",
              "      <td>1</td>\n",
              "      <td>85</td>\n",
              "      <td>66</td>\n",
              "      <td>29</td>\n",
              "      <td>0</td>\n",
              "      <td>26.6</td>\n",
              "      <td>0.351</td>\n",
              "      <td>31</td>\n",
              "      <td>0</td>\n",
              "    </tr>\n",
              "    <tr>\n",
              "      <th>2</th>\n",
              "      <td>8</td>\n",
              "      <td>183</td>\n",
              "      <td>64</td>\n",
              "      <td>0</td>\n",
              "      <td>0</td>\n",
              "      <td>23.3</td>\n",
              "      <td>0.672</td>\n",
              "      <td>32</td>\n",
              "      <td>1</td>\n",
              "    </tr>\n",
              "    <tr>\n",
              "      <th>3</th>\n",
              "      <td>1</td>\n",
              "      <td>89</td>\n",
              "      <td>66</td>\n",
              "      <td>23</td>\n",
              "      <td>94</td>\n",
              "      <td>28.1</td>\n",
              "      <td>0.167</td>\n",
              "      <td>21</td>\n",
              "      <td>0</td>\n",
              "    </tr>\n",
              "    <tr>\n",
              "      <th>4</th>\n",
              "      <td>0</td>\n",
              "      <td>137</td>\n",
              "      <td>40</td>\n",
              "      <td>35</td>\n",
              "      <td>168</td>\n",
              "      <td>43.1</td>\n",
              "      <td>2.288</td>\n",
              "      <td>33</td>\n",
              "      <td>1</td>\n",
              "    </tr>\n",
              "  </tbody>\n",
              "</table>\n",
              "</div>"
            ],
            "text/plain": [
              "   Pregnancies  Glucose  BloodPressure  ...  DiabetesPedigreeFunction  Age  Outcome\n",
              "0            6      148             72  ...                     0.627   50        1\n",
              "1            1       85             66  ...                     0.351   31        0\n",
              "2            8      183             64  ...                     0.672   32        1\n",
              "3            1       89             66  ...                     0.167   21        0\n",
              "4            0      137             40  ...                     2.288   33        1\n",
              "\n",
              "[5 rows x 9 columns]"
            ]
          },
          "metadata": {},
          "execution_count": 93
        }
      ]
    },
    {
      "cell_type": "markdown",
      "metadata": {
        "id": "Kk2uOxs1SQOb"
      },
      "source": [
        "Exploring the last records of the dataset"
      ]
    },
    {
      "cell_type": "code",
      "metadata": {
        "colab": {
          "base_uri": "https://localhost:8080/",
          "height": 204
        },
        "id": "caW8TDHhSTZs",
        "outputId": "4a251132-98e2-4908-98d2-b0132ada7caf"
      },
      "source": [
        "df.tail()"
      ],
      "execution_count": null,
      "outputs": [
        {
          "output_type": "execute_result",
          "data": {
            "text/html": [
              "<div>\n",
              "<style scoped>\n",
              "    .dataframe tbody tr th:only-of-type {\n",
              "        vertical-align: middle;\n",
              "    }\n",
              "\n",
              "    .dataframe tbody tr th {\n",
              "        vertical-align: top;\n",
              "    }\n",
              "\n",
              "    .dataframe thead th {\n",
              "        text-align: right;\n",
              "    }\n",
              "</style>\n",
              "<table border=\"1\" class=\"dataframe\">\n",
              "  <thead>\n",
              "    <tr style=\"text-align: right;\">\n",
              "      <th></th>\n",
              "      <th>Pregnancies</th>\n",
              "      <th>Glucose</th>\n",
              "      <th>BloodPressure</th>\n",
              "      <th>SkinThickness</th>\n",
              "      <th>Insulin</th>\n",
              "      <th>BMI</th>\n",
              "      <th>DiabetesPedigreeFunction</th>\n",
              "      <th>Age</th>\n",
              "      <th>Outcome</th>\n",
              "    </tr>\n",
              "  </thead>\n",
              "  <tbody>\n",
              "    <tr>\n",
              "      <th>763</th>\n",
              "      <td>10</td>\n",
              "      <td>101</td>\n",
              "      <td>76</td>\n",
              "      <td>48</td>\n",
              "      <td>180</td>\n",
              "      <td>32.9</td>\n",
              "      <td>0.171</td>\n",
              "      <td>63</td>\n",
              "      <td>0</td>\n",
              "    </tr>\n",
              "    <tr>\n",
              "      <th>764</th>\n",
              "      <td>2</td>\n",
              "      <td>122</td>\n",
              "      <td>70</td>\n",
              "      <td>27</td>\n",
              "      <td>0</td>\n",
              "      <td>36.8</td>\n",
              "      <td>0.340</td>\n",
              "      <td>27</td>\n",
              "      <td>0</td>\n",
              "    </tr>\n",
              "    <tr>\n",
              "      <th>765</th>\n",
              "      <td>5</td>\n",
              "      <td>121</td>\n",
              "      <td>72</td>\n",
              "      <td>23</td>\n",
              "      <td>112</td>\n",
              "      <td>26.2</td>\n",
              "      <td>0.245</td>\n",
              "      <td>30</td>\n",
              "      <td>0</td>\n",
              "    </tr>\n",
              "    <tr>\n",
              "      <th>766</th>\n",
              "      <td>1</td>\n",
              "      <td>126</td>\n",
              "      <td>60</td>\n",
              "      <td>0</td>\n",
              "      <td>0</td>\n",
              "      <td>30.1</td>\n",
              "      <td>0.349</td>\n",
              "      <td>47</td>\n",
              "      <td>1</td>\n",
              "    </tr>\n",
              "    <tr>\n",
              "      <th>767</th>\n",
              "      <td>1</td>\n",
              "      <td>93</td>\n",
              "      <td>70</td>\n",
              "      <td>31</td>\n",
              "      <td>0</td>\n",
              "      <td>30.4</td>\n",
              "      <td>0.315</td>\n",
              "      <td>23</td>\n",
              "      <td>0</td>\n",
              "    </tr>\n",
              "  </tbody>\n",
              "</table>\n",
              "</div>"
            ],
            "text/plain": [
              "     Pregnancies  Glucose  ...  Age  Outcome\n",
              "763           10      101  ...   63        0\n",
              "764            2      122  ...   27        0\n",
              "765            5      121  ...   30        0\n",
              "766            1      126  ...   47        1\n",
              "767            1       93  ...   23        0\n",
              "\n",
              "[5 rows x 9 columns]"
            ]
          },
          "metadata": {},
          "execution_count": 94
        }
      ]
    },
    {
      "cell_type": "markdown",
      "metadata": {
        "id": "8HVGCt5KScyz"
      },
      "source": [
        "Exploring the datatypes of the features of the dataset."
      ]
    },
    {
      "cell_type": "code",
      "metadata": {
        "colab": {
          "base_uri": "https://localhost:8080/"
        },
        "id": "9tQJp4MGSnra",
        "outputId": "347aa938-7047-4282-eb02-e61a674d1122"
      },
      "source": [
        "df.dtypes"
      ],
      "execution_count": null,
      "outputs": [
        {
          "output_type": "execute_result",
          "data": {
            "text/plain": [
              "Pregnancies                   int64\n",
              "Glucose                       int64\n",
              "BloodPressure                 int64\n",
              "SkinThickness                 int64\n",
              "Insulin                       int64\n",
              "BMI                         float64\n",
              "DiabetesPedigreeFunction    float64\n",
              "Age                           int64\n",
              "Outcome                       int64\n",
              "dtype: object"
            ]
          },
          "metadata": {},
          "execution_count": 95
        }
      ]
    },
    {
      "cell_type": "markdown",
      "metadata": {
        "id": "2YB66ay7S25H"
      },
      "source": [
        "Checking the column names for inconsistencies"
      ]
    },
    {
      "cell_type": "code",
      "metadata": {
        "colab": {
          "base_uri": "https://localhost:8080/"
        },
        "id": "tgyvXX5dS7Un",
        "outputId": "566ce345-677d-4841-d497-4134166401c2"
      },
      "source": [
        "df.columns #There were no inconsistencies"
      ],
      "execution_count": null,
      "outputs": [
        {
          "output_type": "execute_result",
          "data": {
            "text/plain": [
              "Index(['Pregnancies', 'Glucose', 'BloodPressure', 'SkinThickness', 'Insulin',\n",
              "       'BMI', 'DiabetesPedigreeFunction', 'Age', 'Outcome'],\n",
              "      dtype='object')"
            ]
          },
          "metadata": {},
          "execution_count": 96
        }
      ]
    },
    {
      "cell_type": "markdown",
      "metadata": {
        "id": "orPYxODzTN1a"
      },
      "source": [
        "Checking for missing values in the dataset"
      ]
    },
    {
      "cell_type": "code",
      "metadata": {
        "colab": {
          "base_uri": "https://localhost:8080/"
        },
        "id": "SFQCUXt7TP4C",
        "outputId": "8dfa687f-1b51-468d-e844-9ec7bba284e5"
      },
      "source": [
        "df.isna().sum() #There were no missing values found in the dataset."
      ],
      "execution_count": null,
      "outputs": [
        {
          "output_type": "execute_result",
          "data": {
            "text/plain": [
              "Pregnancies                 0\n",
              "Glucose                     0\n",
              "BloodPressure               0\n",
              "SkinThickness               0\n",
              "Insulin                     0\n",
              "BMI                         0\n",
              "DiabetesPedigreeFunction    0\n",
              "Age                         0\n",
              "Outcome                     0\n",
              "dtype: int64"
            ]
          },
          "metadata": {},
          "execution_count": 97
        }
      ]
    },
    {
      "cell_type": "markdown",
      "metadata": {
        "id": "gPibuDzyTbbf"
      },
      "source": [
        "Checking for duplicates in the dataset."
      ]
    },
    {
      "cell_type": "code",
      "metadata": {
        "colab": {
          "base_uri": "https://localhost:8080/"
        },
        "id": "PNVkMuVtTeHf",
        "outputId": "b834c94c-d4c1-4200-b324-070837f9d6da"
      },
      "source": [
        "print(df.duplicated().sum()) #There were no duplicates found in the dataset."
      ],
      "execution_count": null,
      "outputs": [
        {
          "output_type": "stream",
          "name": "stdout",
          "text": [
            "0\n"
          ]
        }
      ]
    },
    {
      "cell_type": "markdown",
      "metadata": {
        "id": "XcqmUCMGWJcz"
      },
      "source": [
        "# Creating the first model: Using Decision Trees"
      ]
    },
    {
      "cell_type": "markdown",
      "metadata": {
        "id": "HAvVwZtgZLrS"
      },
      "source": [
        "We will need to split the dataset so that we can have a training and a validating dataset."
      ]
    },
    {
      "cell_type": "code",
      "metadata": {
        "id": "TrD3fJmYZTQK"
      },
      "source": [
        "df_train, df_valid = train_test_split(df, test_size=0.25, random_state=12345)"
      ],
      "execution_count": null,
      "outputs": []
    },
    {
      "cell_type": "markdown",
      "metadata": {
        "id": "KAMxmQ7JZcqS"
      },
      "source": [
        "Checking the shape and proportion of the training and validating datasets to the overall dataset, to be sure that indeed the training dataset is 75% of the bigger dataset."
      ]
    },
    {
      "cell_type": "code",
      "metadata": {
        "colab": {
          "base_uri": "https://localhost:8080/"
        },
        "id": "dUxVd8Z-Zi0a",
        "outputId": "a03adec5-c917-480e-ffbb-b9853e85d5e2"
      },
      "source": [
        "print(round(df_train.shape[0]/df.shape[0],2))\n",
        "print(round(df_valid.shape[0]/df.shape[0],2))"
      ],
      "execution_count": null,
      "outputs": [
        {
          "output_type": "stream",
          "name": "stdout",
          "text": [
            "0.75\n",
            "0.25\n"
          ]
        }
      ]
    },
    {
      "cell_type": "markdown",
      "metadata": {
        "id": "pP6tPMKKjRJV"
      },
      "source": [
        "Defining the criteria for classification using the 'Glucose' feature. For someone to be diagnosed as diabetic, the Glucose level would have been observed to be either equal to or higher than 126mg/DL. This is the feature I will use to classify my dataset for the model."
      ]
    },
    {
      "cell_type": "code",
      "metadata": {
        "id": "73YaLXHGjQFk"
      },
      "source": [
        "df_train.loc[df['Glucose'] >= 126, 'Outcome2'] = 1\n",
        "df_train.loc[df['Glucose'] < 126, 'Outcome2'] = 0\n",
        "\n",
        "df_valid.loc[df['Glucose'] >= 126, 'Outcome2'] = 1\n",
        "df_valid.loc[df['Glucose'] < 126, 'Outcome2'] = 0"
      ],
      "execution_count": null,
      "outputs": []
    },
    {
      "cell_type": "markdown",
      "metadata": {
        "id": "if8ecfaQWqG7"
      },
      "source": [
        "Declaring the features and target for the df_train"
      ]
    },
    {
      "cell_type": "code",
      "metadata": {
        "id": "WqucoO7gaDP5"
      },
      "source": [
        "features_train = df_train.drop(columns=[\"Glucose\", 'Outcome'])\n",
        "target_train = df_train[\"Outcome2\"]"
      ],
      "execution_count": null,
      "outputs": []
    },
    {
      "cell_type": "markdown",
      "metadata": {
        "id": "hh7B5GZDXy-6"
      },
      "source": [
        "Checking the shape of the features_train and target_train datesets"
      ]
    },
    {
      "cell_type": "code",
      "metadata": {
        "colab": {
          "base_uri": "https://localhost:8080/"
        },
        "id": "BLJwabVEX4Jq",
        "outputId": "12cceabf-bc37-461a-be15-33f5872aa9fc"
      },
      "source": [
        "print(features_train.shape)\n",
        "print(target_train.shape)"
      ],
      "execution_count": null,
      "outputs": [
        {
          "output_type": "stream",
          "name": "stdout",
          "text": [
            "(576, 9)\n",
            "(576,)\n"
          ]
        }
      ]
    },
    {
      "cell_type": "markdown",
      "metadata": {
        "id": "PCpsB8bIbrOQ"
      },
      "source": [
        "Declaring the features and target for df_valid  dataset."
      ]
    },
    {
      "cell_type": "code",
      "metadata": {
        "id": "KPlxPzqzcc4f"
      },
      "source": [
        "features_valid = df_valid.drop(columns=['Glucose', 'Outcome'])\n",
        "target_valid = df_valid[\"Outcome2\"]"
      ],
      "execution_count": null,
      "outputs": []
    },
    {
      "cell_type": "markdown",
      "metadata": {
        "id": "AKPS2K_dcw_3"
      },
      "source": [
        "Checking the shape of the features_valid and target_valid datasets"
      ]
    },
    {
      "cell_type": "code",
      "metadata": {
        "colab": {
          "base_uri": "https://localhost:8080/"
        },
        "id": "d_V2vhWkcuzv",
        "outputId": "18d8dc17-e4bb-4dc2-ba84-197749f44084"
      },
      "source": [
        "print(features_valid.shape)\n",
        "print(target_valid.shape)"
      ],
      "execution_count": null,
      "outputs": [
        {
          "output_type": "stream",
          "name": "stdout",
          "text": [
            "(192, 8)\n",
            "(192,)\n"
          ]
        }
      ]
    },
    {
      "cell_type": "markdown",
      "metadata": {
        "id": "V29U_vDVXg3Q"
      },
      "source": [
        "Creating the Decision Tree model"
      ]
    },
    {
      "cell_type": "code",
      "metadata": {
        "id": "ORBfKRShXowK"
      },
      "source": [
        "model = DecisionTreeClassifier(random_state=12345)"
      ],
      "execution_count": null,
      "outputs": []
    },
    {
      "cell_type": "markdown",
      "metadata": {
        "id": "t_YY4pmRYZqh"
      },
      "source": [
        "Training the Decision Tree model"
      ]
    },
    {
      "cell_type": "code",
      "metadata": {
        "colab": {
          "base_uri": "https://localhost:8080/"
        },
        "id": "DPjHDwd2Yd3j",
        "outputId": "75048ce8-afc9-414a-e0b5-27424681ab02"
      },
      "source": [
        "model.fit(features_train, target_train)"
      ],
      "execution_count": null,
      "outputs": [
        {
          "output_type": "execute_result",
          "data": {
            "text/plain": [
              "DecisionTreeClassifier(ccp_alpha=0.0, class_weight=None, criterion='gini',\n",
              "                       max_depth=None, max_features=None, max_leaf_nodes=None,\n",
              "                       min_impurity_decrease=0.0, min_impurity_split=None,\n",
              "                       min_samples_leaf=1, min_samples_split=2,\n",
              "                       min_weight_fraction_leaf=0.0, presort='deprecated',\n",
              "                       random_state=None, splitter='best')"
            ]
          },
          "metadata": {},
          "execution_count": 140
        }
      ]
    },
    {
      "cell_type": "markdown",
      "metadata": {
        "id": "CHRiFWvJd3dD"
      },
      "source": [
        "Finding the predictions of the model using the validation dataset."
      ]
    },
    {
      "cell_type": "code",
      "metadata": {
        "id": "LFd_j5BbgX5B"
      },
      "source": [
        "predictions_valid = model.predict(features_valid) "
      ],
      "execution_count": null,
      "outputs": []
    },
    {
      "cell_type": "markdown",
      "metadata": {
        "id": "LtWcVF3lhABF"
      },
      "source": [
        "Evaluating the accuracy of the Decision Tree model"
      ]
    },
    {
      "cell_type": "code",
      "metadata": {
        "colab": {
          "base_uri": "https://localhost:8080/"
        },
        "id": "XJzKcysEhDXR",
        "outputId": "9ca51d67-6910-464f-faec-6734eac3db21"
      },
      "source": [
        "accuracy_score(target_valid, predictions_valid) # score = 1.0"
      ],
      "execution_count": null,
      "outputs": [
        {
          "output_type": "execute_result",
          "data": {
            "text/plain": [
              "1.0"
            ]
          },
          "metadata": {},
          "execution_count": 142
        }
      ]
    },
    {
      "cell_type": "code",
      "metadata": {
        "colab": {
          "base_uri": "https://localhost:8080/"
        },
        "id": "LR_TNLJwqXX7",
        "outputId": "6dac1dac-7625-4bf3-efa2-724604ec8d94"
      },
      "source": [
        "model.score(features_valid, target_valid)"
      ],
      "execution_count": null,
      "outputs": [
        {
          "output_type": "execute_result",
          "data": {
            "text/plain": [
              "1.0"
            ]
          },
          "metadata": {},
          "execution_count": 143
        }
      ]
    },
    {
      "cell_type": "markdown",
      "metadata": {
        "id": "m_xSuRTCpq5w"
      },
      "source": [
        "# Creating the second model: Using Random Forest"
      ]
    },
    {
      "cell_type": "code",
      "metadata": {
        "colab": {
          "base_uri": "https://localhost:8080/"
        },
        "id": "1eKvt8RuqV_E",
        "outputId": "a788e102-e3aa-450f-a2b5-7d022794f780"
      },
      "source": [
        "df2 = pd.read_csv('https://bit.ly/DiabetesDS')\n",
        "\n",
        "# Defining the criteria for classification\n",
        "\n",
        "df2.loc[df['Glucose'] >= 126, 'Outcome2'] = 1\n",
        "df2.loc[df['Glucose'] < 126, 'Outcome2'] = 0\n",
        "\n",
        "# Creating the RandomForest model\n",
        "model_forest = RandomForestClassifier(random_state=12345, n_estimators=3)\n",
        "\n",
        "# Declaring the features and target for the dataset\n",
        "features_forest = df2.drop(['Glucose', 'Outcome'], axis=1)\n",
        "target_forest = df2['Outcome2']\n",
        "\n",
        "#Training the model\n",
        "model_forest.fit(features_forest, target_forest)\n",
        "\n",
        "# Evaluating the model score\n",
        "model_forest.score(features_forest, target_forest) # score = 0.9987"
      ],
      "execution_count": null,
      "outputs": [
        {
          "output_type": "execute_result",
          "data": {
            "text/plain": [
              "0.9986979166666666"
            ]
          },
          "metadata": {},
          "execution_count": 145
        }
      ]
    },
    {
      "cell_type": "markdown",
      "metadata": {
        "id": "cFnLrHHitWH9"
      },
      "source": [
        "# Creating the third model: Using Logistic Regression"
      ]
    },
    {
      "cell_type": "code",
      "metadata": {
        "colab": {
          "base_uri": "https://localhost:8080/"
        },
        "id": "K3Lqmgb1um-y",
        "outputId": "7fd61ae5-a1e5-492c-ab31-65149bfbb186"
      },
      "source": [
        "df3 = pd.read_csv('https://bit.ly/DiabetesDS')\n",
        "\n",
        "# Defining the criteria for classification\n",
        "\n",
        "df3.loc[df['Glucose'] >= 126, 'Outcome2'] = 1\n",
        "df3.loc[df['Glucose'] < 126, 'Outcome2'] = 0\n",
        "\n",
        "\n",
        "model_log = LogisticRegression(random_state=12345, solver='liblinear')\n",
        "\n",
        "features_log= df2.drop(['Glucose', 'Outcome'], axis=1)\n",
        "target_log = df2['Outcome2']\n",
        "\n",
        "#Training the model\n",
        "model_log.fit(features_log, target_log)\n",
        "\n",
        "# Evaluating the model score\n",
        "model_log.score(features_log, target_log) # score = 1.0"
      ],
      "execution_count": null,
      "outputs": [
        {
          "output_type": "execute_result",
          "data": {
            "text/plain": [
              "1.0"
            ]
          },
          "metadata": {},
          "execution_count": 146
        }
      ]
    }
  ]
}