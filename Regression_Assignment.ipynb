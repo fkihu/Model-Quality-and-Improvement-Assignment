{
  "nbformat": 4,
  "nbformat_minor": 0,
  "metadata": {
    "colab": {
      "name": "Regression Assignment.ipynb",
      "provenance": [],
      "collapsed_sections": [],
      "authorship_tag": "ABX9TyMVrV1a4+1XXUx/qp4H9OjK",
      "include_colab_link": true
    },
    "kernelspec": {
      "name": "python3",
      "display_name": "Python 3"
    },
    "language_info": {
      "name": "python"
    }
  },
  "cells": [
    {
      "cell_type": "markdown",
      "metadata": {
        "id": "view-in-github",
        "colab_type": "text"
      },
      "source": [
        "<a href=\"https://colab.research.google.com/github/fkihu/Model-Quality-and-Improvement-Assignment/blob/main/Regression_Assignment.ipynb\" target=\"_parent\"><img src=\"https://colab.research.google.com/assets/colab-badge.svg\" alt=\"Open In Colab\"/></a>"
      ]
    },
    {
      "cell_type": "markdown",
      "metadata": {
        "id": "v8dRAWCgk0Wl"
      },
      "source": [
        "**PROBLEM** **STATEMENT**\n",
        "\n",
        "\n",
        "\n",
        "Mobile carrier Megaline has found out that many of their subscribers use legacy plans.\n",
        "They want to develop a model that would analyze subscribers' behavior and recommend\n",
        "one of Megaline's newer plans: Smart or Ultra. This is using available subscriber behaviour data for some subscribers who're already on the two plans. In order to determine which plan is the better of the two, we'll explore the data and evaluate the accuracy of the regression models. The model that has the highest accuracy score is the best.\n"
      ]
    },
    {
      "cell_type": "code",
      "metadata": {
        "id": "JMeWZcXebKIY"
      },
      "source": [
        "import pandas as pd\n",
        "from sklearn.tree import DecisionTreeRegressor\n",
        "from sklearn.ensemble import RandomForestRegressor\n",
        "from sklearn.linear_model import LinearRegression\n",
        "from sklearn.metrics import mean_squared_error\n"
      ],
      "execution_count": null,
      "outputs": []
    },
    {
      "cell_type": "markdown",
      "metadata": {
        "id": "8d2IBUQllnXB"
      },
      "source": [
        "Reading the data"
      ]
    },
    {
      "cell_type": "code",
      "metadata": {
        "colab": {
          "base_uri": "https://localhost:8080/",
          "height": 359
        },
        "id": "RI0sdHH2b6rK",
        "outputId": "be52a41e-9eff-45cb-aae6-34c9443fd093"
      },
      "source": [
        "telco_df = pd.read_csv('https://bit.ly/UsersBehaviourTelco')\n",
        "telco_df.head()\n",
        "telco_df.tail()\n",
        "telco_df.sample(10)\n"
      ],
      "execution_count": null,
      "outputs": [
        {
          "output_type": "execute_result",
          "data": {
            "text/html": [
              "<div>\n",
              "<style scoped>\n",
              "    .dataframe tbody tr th:only-of-type {\n",
              "        vertical-align: middle;\n",
              "    }\n",
              "\n",
              "    .dataframe tbody tr th {\n",
              "        vertical-align: top;\n",
              "    }\n",
              "\n",
              "    .dataframe thead th {\n",
              "        text-align: right;\n",
              "    }\n",
              "</style>\n",
              "<table border=\"1\" class=\"dataframe\">\n",
              "  <thead>\n",
              "    <tr style=\"text-align: right;\">\n",
              "      <th></th>\n",
              "      <th>calls</th>\n",
              "      <th>minutes</th>\n",
              "      <th>messages</th>\n",
              "      <th>mb_used</th>\n",
              "      <th>is_ultra</th>\n",
              "    </tr>\n",
              "  </thead>\n",
              "  <tbody>\n",
              "    <tr>\n",
              "      <th>2360</th>\n",
              "      <td>93.0</td>\n",
              "      <td>679.07</td>\n",
              "      <td>61.0</td>\n",
              "      <td>22704.52</td>\n",
              "      <td>0</td>\n",
              "    </tr>\n",
              "    <tr>\n",
              "      <th>1194</th>\n",
              "      <td>105.0</td>\n",
              "      <td>830.37</td>\n",
              "      <td>21.0</td>\n",
              "      <td>21165.03</td>\n",
              "      <td>1</td>\n",
              "    </tr>\n",
              "    <tr>\n",
              "      <th>2635</th>\n",
              "      <td>47.0</td>\n",
              "      <td>341.32</td>\n",
              "      <td>0.0</td>\n",
              "      <td>13936.79</td>\n",
              "      <td>0</td>\n",
              "    </tr>\n",
              "    <tr>\n",
              "      <th>3060</th>\n",
              "      <td>42.0</td>\n",
              "      <td>277.25</td>\n",
              "      <td>49.0</td>\n",
              "      <td>15483.11</td>\n",
              "      <td>0</td>\n",
              "    </tr>\n",
              "    <tr>\n",
              "      <th>3176</th>\n",
              "      <td>58.0</td>\n",
              "      <td>401.49</td>\n",
              "      <td>71.0</td>\n",
              "      <td>28074.34</td>\n",
              "      <td>1</td>\n",
              "    </tr>\n",
              "    <tr>\n",
              "      <th>1608</th>\n",
              "      <td>101.0</td>\n",
              "      <td>708.27</td>\n",
              "      <td>0.0</td>\n",
              "      <td>16216.94</td>\n",
              "      <td>1</td>\n",
              "    </tr>\n",
              "    <tr>\n",
              "      <th>69</th>\n",
              "      <td>84.0</td>\n",
              "      <td>607.05</td>\n",
              "      <td>22.0</td>\n",
              "      <td>24875.03</td>\n",
              "      <td>0</td>\n",
              "    </tr>\n",
              "    <tr>\n",
              "      <th>2309</th>\n",
              "      <td>31.0</td>\n",
              "      <td>219.09</td>\n",
              "      <td>26.0</td>\n",
              "      <td>18407.09</td>\n",
              "      <td>0</td>\n",
              "    </tr>\n",
              "    <tr>\n",
              "      <th>258</th>\n",
              "      <td>86.0</td>\n",
              "      <td>589.43</td>\n",
              "      <td>9.0</td>\n",
              "      <td>21046.69</td>\n",
              "      <td>0</td>\n",
              "    </tr>\n",
              "    <tr>\n",
              "      <th>1928</th>\n",
              "      <td>64.0</td>\n",
              "      <td>520.31</td>\n",
              "      <td>0.0</td>\n",
              "      <td>18407.05</td>\n",
              "      <td>0</td>\n",
              "    </tr>\n",
              "  </tbody>\n",
              "</table>\n",
              "</div>"
            ],
            "text/plain": [
              "      calls  minutes  messages   mb_used  is_ultra\n",
              "2360   93.0   679.07      61.0  22704.52         0\n",
              "1194  105.0   830.37      21.0  21165.03         1\n",
              "2635   47.0   341.32       0.0  13936.79         0\n",
              "3060   42.0   277.25      49.0  15483.11         0\n",
              "3176   58.0   401.49      71.0  28074.34         1\n",
              "1608  101.0   708.27       0.0  16216.94         1\n",
              "69     84.0   607.05      22.0  24875.03         0\n",
              "2309   31.0   219.09      26.0  18407.09         0\n",
              "258    86.0   589.43       9.0  21046.69         0\n",
              "1928   64.0   520.31       0.0  18407.05         0"
            ]
          },
          "metadata": {},
          "execution_count": 4
        }
      ]
    },
    {
      "cell_type": "markdown",
      "metadata": {
        "id": "TGvS0tuRmQcQ"
      },
      "source": [
        "Checking the shape of the dataset"
      ]
    },
    {
      "cell_type": "code",
      "metadata": {
        "colab": {
          "base_uri": "https://localhost:8080/"
        },
        "id": "RdsJPRBlmTfy",
        "outputId": "fdeefb8b-6c09-4db8-b70f-a1e282028273"
      },
      "source": [
        "telco_df.shape #3214 observations with 5 features"
      ],
      "execution_count": null,
      "outputs": [
        {
          "output_type": "execute_result",
          "data": {
            "text/plain": [
              "(3214, 5)"
            ]
          },
          "metadata": {},
          "execution_count": 8
        }
      ]
    },
    {
      "cell_type": "markdown",
      "metadata": {
        "id": "bCUIkTjRmAdB"
      },
      "source": [
        "Checking for null values"
      ]
    },
    {
      "cell_type": "code",
      "metadata": {
        "colab": {
          "base_uri": "https://localhost:8080/"
        },
        "id": "kXeW9xkemDUY",
        "outputId": "c6078869-b90d-4f29-8625-63ef693be565"
      },
      "source": [
        "telco_df.isnull().sum()"
      ],
      "execution_count": null,
      "outputs": [
        {
          "output_type": "execute_result",
          "data": {
            "text/plain": [
              "calls       0\n",
              "minutes     0\n",
              "messages    0\n",
              "mb_used     0\n",
              "is_ultra    0\n",
              "dtype: int64"
            ]
          },
          "metadata": {},
          "execution_count": 7
        }
      ]
    },
    {
      "cell_type": "markdown",
      "metadata": {
        "id": "muvWftYKnKra"
      },
      "source": [
        "Exploring the data types"
      ]
    },
    {
      "cell_type": "code",
      "metadata": {
        "colab": {
          "base_uri": "https://localhost:8080/"
        },
        "id": "OdnfBC4lnMzB",
        "outputId": "3905ce4c-df2a-40eb-f18a-72ada63d18b5"
      },
      "source": [
        "telco_df.dtypes"
      ],
      "execution_count": null,
      "outputs": [
        {
          "output_type": "execute_result",
          "data": {
            "text/plain": [
              "calls       float64\n",
              "minutes     float64\n",
              "messages    float64\n",
              "mb_used     float64\n",
              "is_ultra      int64\n",
              "dtype: object"
            ]
          },
          "metadata": {},
          "execution_count": 9
        }
      ]
    },
    {
      "cell_type": "markdown",
      "metadata": {
        "id": "NAe5By1VriYa"
      },
      "source": [
        "Splitting the dataset into the training, validation and test sets. These will be split in the ratio 60%:20%:20% respectively. To do this, we will begin by splitting the dataset into two, the training set (80%) and test set (20%)."
      ]
    },
    {
      "cell_type": "code",
      "metadata": {
        "id": "QZLektGMsA4z"
      },
      "source": [
        "from sklearn.model_selection import train_test_split\n",
        "\n",
        "telco_train, telco_test = train_test_split(telco_df, test_size=0.20, random_state=12345)"
      ],
      "execution_count": null,
      "outputs": []
    },
    {
      "cell_type": "code",
      "metadata": {
        "colab": {
          "base_uri": "https://localhost:8080/"
        },
        "id": "GKmTuO3ts3kx",
        "outputId": "0aee3ec2-bd34-4b17-9a6d-181eb0c910ee"
      },
      "source": [
        "print(telco_train.shape) #2571 records\n",
        "print(telco_test.shape) #643 records"
      ],
      "execution_count": null,
      "outputs": [
        {
          "output_type": "stream",
          "name": "stdout",
          "text": [
            "(2571, 5)\n",
            "(643, 5)\n"
          ]
        }
      ]
    },
    {
      "cell_type": "markdown",
      "metadata": {
        "id": "fSqf33vQwe-b"
      },
      "source": [
        "We will then split the training set into two in order to get a validation set (20%)."
      ]
    },
    {
      "cell_type": "code",
      "metadata": {
        "id": "Vo-Ijhb_wH6U"
      },
      "source": [
        "telco_train, telco_valid = train_test_split(telco_df, test_size=0.20, random_state=12345)"
      ],
      "execution_count": null,
      "outputs": []
    },
    {
      "cell_type": "code",
      "metadata": {
        "colab": {
          "base_uri": "https://localhost:8080/"
        },
        "id": "pPhXoFyZwank",
        "outputId": "a36ec908-485a-4621-a5f8-f2a2d0a8d869"
      },
      "source": [
        "print(telco_train.shape) #2571 records\n",
        "print(telco_valid.shape) #643 records\n",
        "print(telco_test.shape) #643 records"
      ],
      "execution_count": null,
      "outputs": [
        {
          "output_type": "stream",
          "name": "stdout",
          "text": [
            "(2571, 5)\n",
            "(643, 5)\n",
            "(643, 5)\n"
          ]
        }
      ]
    },
    {
      "cell_type": "markdown",
      "metadata": {
        "id": "vA_FrpnGxp_0"
      },
      "source": [
        "Declaring the features and target for the telco_train"
      ]
    },
    {
      "cell_type": "code",
      "metadata": {
        "id": "l3dDKoncyEiW"
      },
      "source": [
        "features_train = telco_train.drop(columns=['is_ultra'])\n",
        "target_train = telco_train[\"is_ultra\"]"
      ],
      "execution_count": null,
      "outputs": []
    },
    {
      "cell_type": "code",
      "metadata": {
        "colab": {
          "base_uri": "https://localhost:8080/"
        },
        "id": "VaqUAfeJRYna",
        "outputId": "a75bcece-9eb9-4dfc-ce81-b54de5395eab"
      },
      "source": [
        "# Creating the decision tree model and training it.\n",
        "\n",
        "for depth in range(1, 10):\n",
        "  model = DecisionTreeRegressor(random_state=12345, max_depth=depth)\n",
        "  model.fit(features_train, target_train)\n",
        "  features_valid = telco_valid.drop(columns=['is_ultra']) #Declaring the features of the validation dataset\n",
        "  target_valid = telco_valid[\"is_ultra\"]\n",
        "  predictions_valid = model.predict(features_valid) # Finding the prediction of the decision tree regressor model using the validation dataset.\n",
        "  model.score(features_valid, target_valid)\n",
        "  print(\"max_depth =\", depth, \": \", end='')\n",
        "  print(model.score(features_valid, target_valid))\n",
        "\n"
      ],
      "execution_count": null,
      "outputs": [
        {
          "output_type": "stream",
          "name": "stdout",
          "text": [
            "max_depth = 1 : 0.10750191611813276\n",
            "max_depth = 2 : 0.20214605360034532\n",
            "max_depth = 3 : 0.22014945955792686\n",
            "max_depth = 4 : 0.228880600423233\n",
            "max_depth = 5 : 0.239069247263892\n",
            "max_depth = 6 : 0.21988045722525773\n",
            "max_depth = 7 : 0.2095357717516576\n",
            "max_depth = 8 : 0.16765025360907715\n",
            "max_depth = 9 : 0.15838534731255238\n"
          ]
        }
      ]
    },
    {
      "cell_type": "code",
      "metadata": {
        "colab": {
          "base_uri": "https://localhost:8080/"
        },
        "id": "Devl0fxdf9np",
        "outputId": "14088347-51c0-43f7-9337-4cd097f7433f"
      },
      "source": [
        "# Creating the random forest model and training it.\n",
        "\n",
        "# Tuning the Hyperparameters\n",
        "# Best n_estimators is 69\n",
        "\n",
        "for n_est in range(61, 71):\n",
        "  model_rf = RandomForestRegressor(random_state=12345, n_estimators=n_est, max_depth=10)\n",
        "  model_rf.fit(features_train, target_train)\n",
        "  features_valid = telco_valid.drop(columns=['is_ultra']) #Declaring the features of the validation dataset\n",
        "  target_valid = telco_valid[\"is_ultra\"]\n",
        "  predictions_valid = model.predict(features_valid) # Finding the prediction of the random forest regressor model using the validation dataset.\n",
        "  model_rf.score(features_valid, target_valid)\n",
        "  print(\"n_estimators =\", n_est, \": \", end='')\n",
        "  print(model_rf.score(features_valid, target_valid))"
      ],
      "execution_count": null,
      "outputs": [
        {
          "output_type": "stream",
          "name": "stdout",
          "text": [
            "n_estimators = 61 : 0.2832786759353956\n",
            "n_estimators = 62 : 0.2834528298371318\n",
            "n_estimators = 63 : 0.2842233351673833\n",
            "n_estimators = 64 : 0.28390078794126206\n",
            "n_estimators = 65 : 0.28378896467690307\n",
            "n_estimators = 66 : 0.2846588553909597\n",
            "n_estimators = 67 : 0.2850307526591992\n",
            "n_estimators = 68 : 0.2854163820558151\n",
            "n_estimators = 69 : 0.28638250362871487\n",
            "n_estimators = 70 : 0.2870155631637288\n"
          ]
        }
      ]
    },
    {
      "cell_type": "code",
      "metadata": {
        "colab": {
          "base_uri": "https://localhost:8080/"
        },
        "id": "9tDemPokkUFM",
        "outputId": "1f553bac-e982-4247-f03e-f7d8776b61fa"
      },
      "source": [
        "\n",
        "# Tuning the Hyperparameters\n",
        "# Best n_estimators is 69\n",
        "# Best max_depth is 8\n",
        "\n",
        "for depth in range(1, 11):\n",
        "  model_rf = RandomForestRegressor(random_state=12345, n_estimators=n_est, max_depth=depth)\n",
        "  model_rf.fit(features_train, target_train)\n",
        "  features_valid = telco_valid.drop(columns=['is_ultra']) #Declaring the features of the validation dataset\n",
        "  target_valid = telco_valid[\"is_ultra\"]\n",
        "  predictions_valid = model.predict(features_valid) # Finding the prediction of the random forest regressor model using the validation dataset.\n",
        "  model_rf.score(features_valid, target_valid)\n",
        "  print(\"max_depth =\", depth, \": \", end='')\n",
        "  print(model_rf.score(features_valid, target_valid))"
      ],
      "execution_count": null,
      "outputs": [
        {
          "output_type": "stream",
          "name": "stdout",
          "text": [
            "max_depth = 1 : 0.12328887094622974\n",
            "max_depth = 2 : 0.22258699251126002\n",
            "max_depth = 3 : 0.23499487097923155\n",
            "max_depth = 4 : 0.27505826518584775\n",
            "max_depth = 5 : 0.2916042504876165\n",
            "max_depth = 6 : 0.29414080937418474\n",
            "max_depth = 7 : 0.2986848487834123\n",
            "max_depth = 8 : 0.2997348925396571\n",
            "max_depth = 9 : 0.29439208894315305\n",
            "max_depth = 10 : 0.2870155631637288\n"
          ]
        }
      ]
    },
    {
      "cell_type": "code",
      "metadata": {
        "colab": {
          "base_uri": "https://localhost:8080/"
        },
        "id": "jaq8kQuQk298",
        "outputId": "02d7d806-1035-4b9f-fa32-6e557625e832"
      },
      "source": [
        "# Tuning the Hyperparameters\n",
        "# Best n_estimators is 69\n",
        "# Best max_depth is 8\n",
        "# Best max_leaf_nodes is 72 0.29734392013858213\n",
        "\n",
        "for max_leaf in range(70, 80):\n",
        "  model_rf = RandomForestRegressor(random_state=12345, n_estimators=69, max_depth=8, max_leaf_nodes=max_leaf)\n",
        "  model_rf.fit(features_train, target_train)\n",
        "  features_valid = telco_valid.drop(columns=['is_ultra']) #Declaring the features of the validation dataset\n",
        "  target_valid = telco_valid[\"is_ultra\"]\n",
        "  predictions_valid = model.predict(features_valid) # Finding the prediction of the random forest regressor model using the validation dataset.\n",
        "  model_rf.score(features_valid, target_valid)\n",
        "  print(\"max_leaf_nodes =\", max_leaf, \": \", end='')\n",
        "  print(model_rf.score(features_valid, target_valid))"
      ],
      "execution_count": null,
      "outputs": [
        {
          "output_type": "stream",
          "name": "stdout",
          "text": [
            "max_leaf_nodes = 70 : 0.29685296008563833\n",
            "max_leaf_nodes = 71 : 0.2967995726863245\n",
            "max_leaf_nodes = 72 : 0.29734392013858213\n",
            "max_leaf_nodes = 73 : 0.2972184166423115\n",
            "max_leaf_nodes = 74 : 0.29699892685583384\n",
            "max_leaf_nodes = 75 : 0.2971152860287125\n",
            "max_leaf_nodes = 76 : 0.2970886418143497\n",
            "max_leaf_nodes = 77 : 0.2970286585119314\n",
            "max_leaf_nodes = 78 : 0.296744115954932\n",
            "max_leaf_nodes = 79 : 0.29673662011426827\n"
          ]
        }
      ]
    },
    {
      "cell_type": "code",
      "metadata": {
        "id": "kXagCXO1ZHep"
      },
      "source": [
        "# Creating the Linear Regression Model\n",
        "\n",
        "model_lr = LinearRegression()\n"
      ],
      "execution_count": null,
      "outputs": []
    },
    {
      "cell_type": "code",
      "metadata": {
        "id": "aSN1kJQOZaZr"
      },
      "source": [
        "# Training the model\n",
        "model_lr.fit(features_train, target_train)"
      ],
      "execution_count": null,
      "outputs": []
    },
    {
      "cell_type": "code",
      "metadata": {
        "id": "sTsHOAtGZkUq"
      },
      "source": [
        "# Finding the prediction of the linear regression model using the validation dataset\n",
        "predictions_valid3 = model_lr.predict(features_valid)"
      ],
      "execution_count": null,
      "outputs": []
    },
    {
      "cell_type": "code",
      "metadata": {
        "colab": {
          "base_uri": "https://localhost:8080/"
        },
        "id": "UPuMsV5DZ92R",
        "outputId": "66a77c16-9d0e-4f14-d995-a8cfcecd0f31"
      },
      "source": [
        "# Testing the accuracy of the model\n",
        "model_lr.score(features_valid, target_valid)"
      ],
      "execution_count": null,
      "outputs": [
        {
          "output_type": "execute_result",
          "data": {
            "text/plain": [
              "0.07303309479416342"
            ]
          },
          "metadata": {},
          "execution_count": 30
        }
      ]
    },
    {
      "cell_type": "markdown",
      "metadata": {
        "id": "kFlctCiRxMM1"
      },
      "source": [
        "Findings:\n",
        "\n",
        "The best model is the decision tree model, having achieved a best score of 0.29734392013858213"
      ]
    }
  ]
}